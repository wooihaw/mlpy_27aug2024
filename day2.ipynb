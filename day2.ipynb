{
 "cells": [
  {
   "cell_type": "markdown",
   "id": "71fec08d-43cc-438b-be46-922a9bcad143",
   "metadata": {},
   "source": [
    "# Examples for Day 2"
   ]
  },
  {
   "cell_type": "code",
   "execution_count": 1,
   "id": "6bc47310-36f8-4537-b37b-e836739b3454",
   "metadata": {},
   "outputs": [],
   "source": [
    "# initialization\n",
    "%matplotlib inline\n",
    "from warnings import filterwarnings\n",
    "filterwarnings(\"ignore\")"
   ]
  },
  {
   "cell_type": "code",
   "execution_count": 3,
   "id": "5ba99510-fde8-46a7-a036-8cc79c6c3b59",
   "metadata": {},
   "outputs": [
    {
     "name": "stdout",
     "output_type": "stream",
     "text": [
      "   preg  plas  pres  skin  test  mass   pedi  age  class new_feature1  \\\n",
      "0     6   148    72    35     0  33.6  0.627   50      1  Middle-aged   \n",
      "1     1    85    66    29     0  26.6  0.351   31      0  Middle-aged   \n",
      "2     8   183    64     0     0  23.3  0.672   32      1  Middle-aged   \n",
      "3     1    89    66    23    94  28.1  0.167   21      0        Young   \n",
      "4     0   137    40    35   168  43.1  2.288   33      1  Middle-aged   \n",
      "\n",
      "   new_feature2  \n",
      "0           NaN  \n",
      "1           NaN  \n",
      "2     27.833333  \n",
      "3     26.000000  \n",
      "4     31.500000  \n"
     ]
    }
   ],
   "source": [
    "# %load ml14.py\n",
    "# Create 2 new features\n",
    "import pandas as pd\n",
    "header = ['preg', 'plas', 'pres', 'skin', 'test', 'mass', 'pedi', 'age', 'class']\n",
    "df = pd.read_csv('data/pima-indians-diabetes.data.csv', names=header)\n",
    "bins = [0, 30, 50, 100] \n",
    "labels = ['Young', 'Middle-aged', 'Senior']\n",
    "df['new_feature1'] = pd.cut(df['age'], bins=bins, labels=labels)\n",
    "df['new_feature2'] = df['mass'].rolling(window=3).mean()\n",
    "print(df.head())\n"
   ]
  },
  {
   "cell_type": "code",
   "execution_count": 5,
   "id": "19991682-1ade-46de-bb4c-5cd08724a8f3",
   "metadata": {},
   "outputs": [
    {
     "name": "stdout",
     "output_type": "stream",
     "text": [
      "['preg', 'plas', 'mass', 'age']\n"
     ]
    }
   ],
   "source": [
    "# %load ml15.py\n",
    "# Feature Selection with Univariate Selection\n",
    "from pandas import read_csv\n",
    "from sklearn.feature_selection import SelectKBest\n",
    "# load data\n",
    "header = ['preg', 'plas', 'pres', 'skin', 'test', 'mass', 'pedi', 'age', 'class']\n",
    "df = read_csv('data/pima-indians-diabetes.data.csv', names=header)\n",
    "X = df.drop(columns=['class'])\n",
    "y = df['class']\n",
    "selector = SelectKBest(k=4)\n",
    "features = selector.fit_transform(X, y)\n",
    "selected = selector.get_support()\n",
    "# Show selected features\n",
    "print([header[i] for i, j in enumerate(selected) if j])\n"
   ]
  },
  {
   "cell_type": "code",
   "execution_count": 7,
   "id": "53b13342-f7e6-418c-9355-3bb99e628632",
   "metadata": {},
   "outputs": [
    {
     "name": "stdout",
     "output_type": "stream",
     "text": [
      "['plas', 'mass', 'pedi', 'age']\n"
     ]
    }
   ],
   "source": [
    "# %load ml16.py\n",
    "# Model-based Feature Selection with Random Forest\n",
    "from pandas import read_csv\n",
    "from sklearn.ensemble import RandomForestClassifier\n",
    "from sklearn.feature_selection import SelectFromModel\n",
    "names = ['preg', 'plas', 'pres', 'skin', 'test', 'mass', 'pedi', 'age', 'class']\n",
    "df = read_csv('data/pima-indians-diabetes.data.csv', names=names)\n",
    "array = df.values\n",
    "X = array[:, :-1]\n",
    "y = array[:, -1]\n",
    "selector = SelectFromModel(RandomForestClassifier(), threshold='median')\n",
    "features = selector.fit_transform(X, y)\n",
    "selected = selector.get_support()\n",
    "# Show selected features\n",
    "print([names[i] for i in range(len(names)-1) if selected[i]])\n"
   ]
  },
  {
   "cell_type": "code",
   "execution_count": 9,
   "id": "1d01b13a-6833-4c3a-a8af-5e96ae9afea0",
   "metadata": {},
   "outputs": [
    {
     "name": "stdout",
     "output_type": "stream",
     "text": [
      "['plas', 'mass', 'pedi', 'age']\n"
     ]
    }
   ],
   "source": [
    "# %load ml17.py\n",
    "# Feature Selection with RFE\n",
    "from pandas import read_csv\n",
    "from sklearn.feature_selection import RFE\n",
    "from sklearn.tree import DecisionTreeClassifier\n",
    "header = ['preg', 'plas', 'pres', 'skin', 'test', 'mass', 'pedi', 'age', 'class']\n",
    "df = read_csv('data/pima-indians-diabetes.data.csv', names=header)\n",
    "X = df.drop(columns=['class'])\n",
    "y = df['class']\n",
    "model = DecisionTreeClassifier()\n",
    "rfe = RFE(model, n_features_to_select=4)\n",
    "features = rfe.fit_transform(X, y)\n",
    "selected = rfe.get_support()\n",
    "# Show selected features\n",
    "print([header[i] for i, j in enumerate(selected) if j])\n"
   ]
  },
  {
   "cell_type": "code",
   "execution_count": 11,
   "id": "78575fe7-e129-4017-a58a-bc5eecdc08a7",
   "metadata": {},
   "outputs": [
    {
     "name": "stdout",
     "output_type": "stream",
     "text": [
      "Accuracy: 70.08%\n"
     ]
    }
   ],
   "source": [
    "# %load ml18.py\n",
    "# Evaluate using a train and a test set\n",
    "from pandas import read_csv\n",
    "from sklearn.model_selection import train_test_split as split\n",
    "from sklearn.neighbors import KNeighborsClassifier\n",
    "header = ['preg', 'plas', 'pres', 'skin', 'test', 'mass', 'pedi', 'age', 'class']\n",
    "df = read_csv('data/pima-indians-diabetes.data.csv', names=header)\n",
    "X = df.drop(columns=['class'])\n",
    "y = df['class']\n",
    "# Split into training and testing sets\n",
    "X_train, X_test, y_train, y_test = split(X, y, test_size=0.33, random_state=42)\n",
    "model = KNeighborsClassifier()\n",
    "model.fit(X_train, y_train)\n",
    "result = model.score(X_test, y_test)\n",
    "print(f\"Accuracy: {result:.2%}\")\n"
   ]
  },
  {
   "cell_type": "code",
   "execution_count": 13,
   "id": "a9081a88-70ef-470a-b6e8-03bd059de0a5",
   "metadata": {},
   "outputs": [
    {
     "name": "stdout",
     "output_type": "stream",
     "text": [
      "Accuracy: 72.44%\n"
     ]
    }
   ],
   "source": [
    "# %load ml19.py\n",
    "# Evaluate using a train and a test set\n",
    "from pandas import read_csv\n",
    "from sklearn.model_selection import train_test_split as split\n",
    "from sklearn.neighbors import KNeighborsClassifier\n",
    "header = ['preg', 'plas', 'pres', 'skin', 'test', 'mass', 'pedi', 'age', 'class']\n",
    "df = read_csv('data/pima-indians-diabetes.data.csv', names=header)\n",
    "X = df.drop(columns=['class'])\n",
    "y = df['class']\n",
    "# Split into training and testing sets\n",
    "X_train, X_test, y_train, y_test = split(X, y, stratify=y, test_size=0.33, random_state=42)\n",
    "model = KNeighborsClassifier()\n",
    "model.fit(X_train, y_train)\n",
    "result = model.score(X_test, y_test)\n",
    "print(f\"Accuracy: {result:.2%}\")\n"
   ]
  },
  {
   "cell_type": "code",
   "execution_count": 15,
   "id": "6128059f-3049-4084-b186-94925317a04f",
   "metadata": {},
   "outputs": [
    {
     "name": "stdout",
     "output_type": "stream",
     "text": [
      "Accuracy: 72.14% (1.92%)\n"
     ]
    }
   ],
   "source": [
    "# %load ml20.py\n",
    "# Evaluate using Cross Validation\n",
    "from pandas import read_csv\n",
    "from sklearn.model_selection import KFold, cross_val_score\n",
    "from sklearn.neighbors import KNeighborsClassifier\n",
    "header = ['preg', 'plas', 'pres', 'skin', 'test', 'mass', 'pedi', 'age', 'class']\n",
    "df = read_csv('data/pima-indians-diabetes.data.csv', names=header)\n",
    "X = df.drop(columns=['class'])\n",
    "y = df['class']\n",
    "model = KNeighborsClassifier()\n",
    "# Create 3 partitions\n",
    "kfold = KFold(n_splits=3, shuffle=True, random_state=42)\n",
    "# Perform 3-fold cross-validation\n",
    "results = cross_val_score(model, X, y, cv=kfold)\n",
    "print(f\"Accuracy: {results.mean():.2%} ({results.std():.2%})\")\n"
   ]
  },
  {
   "cell_type": "code",
   "execution_count": 16,
   "id": "cc662517-0c2c-4238-a71f-04334cdddb9f",
   "metadata": {},
   "outputs": [
    {
     "data": {
      "text/html": [
       "<div>\n",
       "<style scoped>\n",
       "    .dataframe tbody tr th:only-of-type {\n",
       "        vertical-align: middle;\n",
       "    }\n",
       "\n",
       "    .dataframe tbody tr th {\n",
       "        vertical-align: top;\n",
       "    }\n",
       "\n",
       "    .dataframe thead th {\n",
       "        text-align: right;\n",
       "    }\n",
       "</style>\n",
       "<table border=\"1\" class=\"dataframe\">\n",
       "  <thead>\n",
       "    <tr style=\"text-align: right;\">\n",
       "      <th></th>\n",
       "      <th>feature1</th>\n",
       "      <th>feature2</th>\n",
       "      <th>label</th>\n",
       "    </tr>\n",
       "  </thead>\n",
       "  <tbody>\n",
       "    <tr>\n",
       "      <th>0</th>\n",
       "      <td>-4.083310</td>\n",
       "      <td>-10963.008707</td>\n",
       "      <td>0</td>\n",
       "    </tr>\n",
       "    <tr>\n",
       "      <th>1</th>\n",
       "      <td>0.751363</td>\n",
       "      <td>-7153.781270</td>\n",
       "      <td>1</td>\n",
       "    </tr>\n",
       "    <tr>\n",
       "      <th>2</th>\n",
       "      <td>5.706203</td>\n",
       "      <td>-7830.473386</td>\n",
       "      <td>1</td>\n",
       "    </tr>\n",
       "    <tr>\n",
       "      <th>3</th>\n",
       "      <td>-6.522791</td>\n",
       "      <td>-9145.506169</td>\n",
       "      <td>0</td>\n",
       "    </tr>\n",
       "    <tr>\n",
       "      <th>4</th>\n",
       "      <td>-7.362259</td>\n",
       "      <td>2846.910782</td>\n",
       "      <td>2</td>\n",
       "    </tr>\n",
       "  </tbody>\n",
       "</table>\n",
       "</div>"
      ],
      "text/plain": [
       "   feature1      feature2  label\n",
       "0 -4.083310 -10963.008707      0\n",
       "1  0.751363  -7153.781270      1\n",
       "2  5.706203  -7830.473386      1\n",
       "3 -6.522791  -9145.506169      0\n",
       "4 -7.362259   2846.910782      2"
      ]
     },
     "execution_count": 16,
     "metadata": {},
     "output_type": "execute_result"
    }
   ],
   "source": [
    "from pandas import read_csv\n",
    "import matplotlib.pyplot as plt\n",
    "from sklearn.preprocessing import MinMaxScaler\n",
    "from sklearn.model_selection import train_test_split as split\n",
    "from sklearn.neighbors import KNeighborsClassifier\n",
    "\n",
    "df = read_csv(\"data/rescale.csv\")\n",
    "df.head()"
   ]
  },
  {
   "cell_type": "code",
   "execution_count": 17,
   "id": "5eea6fea-1a79-42ab-857f-32e4259dd4ae",
   "metadata": {},
   "outputs": [
    {
     "data": {
      "text/html": [
       "<div>\n",
       "<style scoped>\n",
       "    .dataframe tbody tr th:only-of-type {\n",
       "        vertical-align: middle;\n",
       "    }\n",
       "\n",
       "    .dataframe tbody tr th {\n",
       "        vertical-align: top;\n",
       "    }\n",
       "\n",
       "    .dataframe thead th {\n",
       "        text-align: right;\n",
       "    }\n",
       "</style>\n",
       "<table border=\"1\" class=\"dataframe\">\n",
       "  <thead>\n",
       "    <tr style=\"text-align: right;\">\n",
       "      <th></th>\n",
       "      <th>feature1</th>\n",
       "      <th>feature2</th>\n",
       "      <th>label</th>\n",
       "    </tr>\n",
       "  </thead>\n",
       "  <tbody>\n",
       "    <tr>\n",
       "      <th>count</th>\n",
       "      <td>300.000000</td>\n",
       "      <td>300.000000</td>\n",
       "      <td>300.000000</td>\n",
       "    </tr>\n",
       "    <tr>\n",
       "      <th>mean</th>\n",
       "      <td>-3.112509</td>\n",
       "      <td>-5458.703355</td>\n",
       "      <td>1.000000</td>\n",
       "    </tr>\n",
       "    <tr>\n",
       "      <th>std</th>\n",
       "      <td>5.260577</td>\n",
       "      <td>5641.865215</td>\n",
       "      <td>0.817861</td>\n",
       "    </tr>\n",
       "    <tr>\n",
       "      <th>min</th>\n",
       "      <td>-14.482280</td>\n",
       "      <td>-14742.240961</td>\n",
       "      <td>0.000000</td>\n",
       "    </tr>\n",
       "    <tr>\n",
       "      <th>25%</th>\n",
       "      <td>-7.036305</td>\n",
       "      <td>-9750.407678</td>\n",
       "      <td>0.000000</td>\n",
       "    </tr>\n",
       "    <tr>\n",
       "      <th>50%</th>\n",
       "      <td>-4.439516</td>\n",
       "      <td>-7862.241840</td>\n",
       "      <td>1.000000</td>\n",
       "    </tr>\n",
       "    <tr>\n",
       "      <th>75%</th>\n",
       "      <td>1.833269</td>\n",
       "      <td>611.843991</td>\n",
       "      <td>2.000000</td>\n",
       "    </tr>\n",
       "    <tr>\n",
       "      <th>max</th>\n",
       "      <td>8.907468</td>\n",
       "      <td>6395.905063</td>\n",
       "      <td>2.000000</td>\n",
       "    </tr>\n",
       "  </tbody>\n",
       "</table>\n",
       "</div>"
      ],
      "text/plain": [
       "         feature1      feature2       label\n",
       "count  300.000000    300.000000  300.000000\n",
       "mean    -3.112509  -5458.703355    1.000000\n",
       "std      5.260577   5641.865215    0.817861\n",
       "min    -14.482280 -14742.240961    0.000000\n",
       "25%     -7.036305  -9750.407678    0.000000\n",
       "50%     -4.439516  -7862.241840    1.000000\n",
       "75%      1.833269    611.843991    2.000000\n",
       "max      8.907468   6395.905063    2.000000"
      ]
     },
     "execution_count": 17,
     "metadata": {},
     "output_type": "execute_result"
    }
   ],
   "source": [
    "# Calculate descriptive statistics\n",
    "df.describe()"
   ]
  },
  {
   "cell_type": "code",
   "execution_count": 18,
   "id": "6e2e0b42-275f-4c4c-be68-54196a2365c6",
   "metadata": {},
   "outputs": [],
   "source": [
    "# Separate features and target\n",
    "X = df.drop(columns=['label'])\n",
    "y = df['label']\n",
    "\n",
    "# Split to training and testing sets\n",
    "X_train, X_test, y_train, y_test = split(X, y, test_size=0.25, random_state=42)"
   ]
  },
  {
   "cell_type": "code",
   "execution_count": 27,
   "id": "dd00f36a-68e5-4ef5-8e28-7891f72fa845",
   "metadata": {},
   "outputs": [
    {
     "data": {
      "image/png": "[encoded data removed]",
      "text/plain": [
       "<Figure size 640x480 with 1 Axes>"
      ]
     },
     "metadata": {},
     "output_type": "display_data"
    }
   ],
   "source": [
    "# Plot the features\n",
    "plt.scatter(X_train['feature1'], X_train['feature2'], c=y_train)\n",
    "plt.xlabel(\"Feature 1\")\n",
    "plt.ylabel(\"Feature 2\")\n",
    "plt.title(\"Original data points\")\n",
    "plt.axis('equal')\n",
    "plt.show()"
   ]
  },
  {
   "cell_type": "code",
   "execution_count": 28,
   "id": "761adca6-431b-4f48-84e8-6c196a9c7f69",
   "metadata": {},
   "outputs": [
    {
     "name": "stdout",
     "output_type": "stream",
     "text": [
      "knn1 acccuracy: 66.667%\n"
     ]
    }
   ],
   "source": [
    "# Train and evaluate a kNN model\n",
    "knn1 = KNeighborsClassifier().fit(X_train, y_train)\n",
    "print(f\"knn1 acccuracy: {knn1.score(X_test, y_test):.3%}\")"
   ]
  },
  {
   "cell_type": "code",
   "execution_count": 29,
   "id": "5eb77848-bc19-469e-9667-0133919093f7",
   "metadata": {},
   "outputs": [],
   "source": [
    "# Perform feature scaling\n",
    "scaler = MinMaxScaler()\n",
    "Xs_train = scaler.fit_transform(X_train)\n",
    "Xs_test = scaler.transform(X_test)"
   ]
  },
  {
   "cell_type": "code",
   "execution_count": 32,
   "id": "d1420a8d-e20c-47e9-9b61-871a24ec524b",
   "metadata": {},
   "outputs": [
    {
     "data": {
      "image/png": "[encoded data removed]",
      "text/plain": [
       "<Figure size 640x480 with 1 Axes>"
      ]
     },
     "metadata": {},
     "output_type": "display_data"
    }
   ],
   "source": [
    "# Plot the features\n",
    "plt.scatter(Xs_train[:, 0], Xs_train[:, 1], c=y_train)\n",
    "plt.xlabel(\"Scaled Feature 1\")\n",
    "plt.ylabel(\"Scaled Feature 2\")\n",
    "plt.title(\"Scaled data points\")\n",
    "plt.axis('equal')\n",
    "plt.show()"
   ]
  },
  {
   "cell_type": "code",
   "execution_count": 33,
   "id": "44aaf596-0a83-4970-9167-83e42537235c",
   "metadata": {},
   "outputs": [
    {
     "name": "stdout",
     "output_type": "stream",
     "text": [
      "knn2 acccuracy: 98.667%\n"
     ]
    }
   ],
   "source": [
    "# Train and evaluate a kNN model on the scaled features\n",
    "knn2 = KNeighborsClassifier().fit(Xs_train, y_train)\n",
    "print(f\"knn2 acccuracy: {knn2.score(Xs_test, y_test):.3%}\")"
   ]
  },
  {
   "cell_type": "code",
   "execution_count": 34,
   "id": "250a65a2-1237-4e15-a8d5-3660953ea01a",
   "metadata": {},
   "outputs": [
    {
     "name": "stdout",
     "output_type": "stream",
     "text": [
      "knn2 acccuracy: 98.222%\n"
     ]
    }
   ],
   "source": [
    "# Evaluate on the training set\n",
    "print(f\"knn2 acccuracy: {knn2.score(Xs_train, y_train):.3%}\")"
   ]
  },
  {
   "cell_type": "code",
   "execution_count": null,
   "id": "11f6f336-92ac-4f31-9cd8-0567b2fca447",
   "metadata": {},
   "outputs": [],
   "source": []
  }
 ],
 "metadata": {
  "kernelspec": {
   "display_name": "Python 3 (ipykernel)",
   "language": "python",
   "name": "python3"
  },
  "language_info": {
   "codemirror_mode": {
    "name": "ipython",
    "version": 3
   },
   "file_extension": ".py",
   "mimetype": "text/x-python",
   "name": "python",
   "nbconvert_exporter": "python",
   "pygments_lexer": "ipython3",
   "version": "3.12.4"
  }
 },
 "nbformat": 4,
 "nbformat_minor": 5
}
